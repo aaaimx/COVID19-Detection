{
 "cells": [
  {
   "cell_type": "code",
   "execution_count": 5,
   "metadata": {},
   "outputs": [
    {
     "output_type": "stream",
     "name": "stdout",
     "text": "Fiebre : 38.4\nDolorGarganta : 0\nDolorCabeza : 0\nMialgia : 0\nFatiga : 1\nDiarrea : 1\nCongestionNasal : 0\nEstornudos : 0\nRinorrea : 0\n\nOrderedDict([('Co', 4.995030683613533), ('Al', 4.994999999999991), ('Re', 4.995030683613533), ('In', 4.995030683613533)])\nPre-Diagnóstico: 4.995030683613533\n"
    }
   ],
   "source": [
    "\n",
    "\n",
    "\n",
    "import numpy as np\n",
    "import skfuzzy as fuzz\n",
    "from skfuzzy import control as ctrl\n",
    "from rules import rule1, rule2, rule3, rule4, rule5, rule6\n",
    "\n",
    "system = ctrl.ControlSystem(rules=[rule1, rule2, rule3, rule4, rule5, rule6])\n",
    "diagnosis = ctrl.ControlSystemSimulation(system)\n",
    "\n",
    "\"\"\"\n",
    "\n",
    "COVID-19=[40.28, 0.4128, 0.5805, 0.4942, 0.1437, 0.1802, 0.4195, 0.9128, 0.1782]\n",
    "\n",
    "Alergias=[36.78, 0.1105, 0.08621, 0.1453, 0.8563, 0.8314, 0.1437, 0.5523, 0.6264]\n",
    "\n",
    "Resfriado=[37.7, 0.3779, 0.3161, 0.1686, 0.9138, 0.8779, 0.8563, 0.2151, 0.9138]\n",
    "\n",
    "Influenza=[40.22, 0.8779, 0.8908, 0.9012, 0.3046, 0.1337, 0.4425, 0.1221, 0.4655]\n",
    "\n",
    "COVID-19=[38.4, 0, 0, 1, 0, 0, 0, 1, 0]\n",
    "\"\"\"\n",
    "\n",
    "inputs = [38.4, 0, 0, 1, 0, 0, 0, 1, 0]\n",
    "diagnosis.input['Fiebre'] = inputs[0]\n",
    "diagnosis.input['DolorCabeza'] = inputs[1]\n",
    "diagnosis.input['Mialgia'] = inputs[2]\n",
    "diagnosis.input['Fatiga'] = inputs[3]\n",
    "diagnosis.input['CongestionNasal'] = inputs[4]\n",
    "diagnosis.input['Estornudos'] = inputs[5]\n",
    "diagnosis.input['DolorGarganta'] = inputs[6]\n",
    "diagnosis.input['Diarrea'] = inputs[7]\n",
    "diagnosis.input['Rinorrea'] = inputs[8]\n",
    "print(diagnosis.input)\n",
    "\n",
    "diagnosis.compute()\n",
    "#---------------------------------------\n",
    "print(diagnosis.output)\n",
    "print('Pre-Diagnóstico:', max([diagnosis.output['Co'], diagnosis.output['Al'], diagnosis.output['Re'], diagnosis.output['In']]))\n",
    "#diagno.view(sim=diagnosis)\n"
   ]
  }
 ],
 "metadata": {
  "language_info": {
   "codemirror_mode": {
    "name": "ipython",
    "version": 3
   },
   "file_extension": ".py",
   "mimetype": "text/x-python",
   "name": "python",
   "nbconvert_exporter": "python",
   "pygments_lexer": "ipython3",
   "version": "3.8.0-final"
  },
  "orig_nbformat": 2,
  "kernelspec": {
   "name": "python38064bitvenv3d3e30184c1e4e9e85e7bef5f1e5551b",
   "display_name": "Python 3.8.0 64-bit ('venv')"
  }
 },
 "nbformat": 4,
 "nbformat_minor": 2
}