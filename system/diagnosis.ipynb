{
 "cells": [
  {
   "cell_type": "code",
   "execution_count": 1,
   "metadata": {},
   "outputs": [],
   "source": [
    "import numpy as np\n",
    "import skfuzzy as fuzz\n",
    "from skfuzzy import control as ctrl\n",
    "from rules import rules"
   ]
  },
  {
   "cell_type": "code",
   "execution_count": 2,
   "metadata": {},
   "outputs": [],
   "source": [
    "system = ctrl.ControlSystem(rules=rules)\n",
    "diagnosis = ctrl.ControlSystemSimulation(system)"
   ]
  },
  {
   "cell_type": "markdown",
   "metadata": {},
   "source": [
    "## Entradas y Salidas anteriormente simuladas\n",
    "\n",
    "* COVID-19=\\[40.28, 0.4128, 0.5805, 0.4942, 0.1437, 0.1802, 0.4195, 0.9128, 0.1782]\n",
    "\n",
    "* Alergias=\\[36.78, 0.1105, 0.08621, 0.1453, 0.8563, 0.8314, 0.1437, 0.5523, 0.6264]\n",
    "\n",
    "* Resfriado=\\[37.7, 0.3779, 0.3161, 0.1686, 0.9138, 0.8779, 0.8563, 0.2151, 0.9138]\n",
    "\n",
    "* Influenza=\\[40.22, 0.8779, 0.8908, 0.9012, 0.3046, 0.1337, 0.4425, 0.1221, 0.4655]\n",
    "\n",
    "* (COVID-19, 0.659)=\\[38.4, 0, 0, 1, 0, 0, 0, 1, 0]"
   ]
  },
  {
   "cell_type": "code",
   "execution_count": 3,
   "metadata": {},
   "outputs": [
    {
     "name": "stdout",
     "output_type": "stream",
     "text": "Fiebre : 38.4\nDolorGarganta : 0\nDolorCabeza : 0\nMialgia : 0\nFatiga : 1\nDiarrea : 1\nCongestionNasal : 0\nEstornudos : 0\nRinorrea : 0\n\n"
    }
   ],
   "source": [
    "inputs = [38.4, 0, 0, 1, 0, 0, 0, 1, 0]\n",
    "diagnosis.input['Fiebre'] = inputs[0]\n",
    "diagnosis.input['DolorCabeza'] = inputs[1]\n",
    "diagnosis.input['Mialgia'] = inputs[2]\n",
    "diagnosis.input['Fatiga'] = inputs[3]\n",
    "diagnosis.input['CongestionNasal'] = inputs[4]\n",
    "diagnosis.input['Estornudos'] = inputs[5]\n",
    "diagnosis.input['DolorGarganta'] = inputs[6]\n",
    "diagnosis.input['Diarrea'] = inputs[7]\n",
    "diagnosis.input['Rinorrea'] = inputs[8]\n",
    "print(diagnosis.input)"
   ]
  },
  {
   "cell_type": "code",
   "execution_count": 4,
   "metadata": {},
   "outputs": [
    {
     "name": "stdout",
     "output_type": "stream",
     "text": "OrderedDict([('Co', 4.995030683613533), ('Al', 4.994999999999991), ('Re', 4.995030683613533), ('In', 4.995030683613533)])\nPre-Diagnóstico: 4.995030683613533\n"
    }
   ],
   "source": [
    "diagnosis.compute()\n",
    "print(diagnosis.output)\n",
    "print('Pre-Diagnóstico:', max(diagnosis.output.values()))"
   ]
  },
  {
   "cell_type": "code",
   "execution_count": 5,
   "metadata": {},
   "outputs": [],
   "source": [
    "#Co.view(sim=diagnosis)"
   ]
  }
 ],
 "metadata": {
  "language_info": {
   "codemirror_mode": {
    "name": "ipython",
    "version": 3
   },
   "file_extension": ".py",
   "mimetype": "text/x-python",
   "name": "python",
   "nbconvert_exporter": "python",
   "pygments_lexer": "ipython3",
   "version": "3.6.9-final"
  },
  "orig_nbformat": 2,
  "kernelspec": {
   "name": "python36964bitenvvirtualenv5fb9ff29f11d443f9c1ea686a9f6796e",
   "display_name": "Python 3.6.9 64-bit ('env': virtualenv)"
  }
 },
 "nbformat": 4,
 "nbformat_minor": 2
}