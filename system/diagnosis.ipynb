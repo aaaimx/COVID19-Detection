{
 "cells": [
  {
   "cell_type": "code",
   "execution_count": 7,
   "metadata": {},
   "outputs": [
    {
     "output_type": "error",
     "ename": "ValueError",
     "evalue": "Membership function 'NO' does not exist for Antecedent Fiebre.\nAvailable options: 'No'; 'Leve'; 'Alta', or 'Severo'.",
     "traceback": [
      "\u001b[0;31m---------------------------------------------------------------------------\u001b[0m",
      "\u001b[0;31mValueError\u001b[0m                                Traceback (most recent call last)",
      "\u001b[0;32m<ipython-input-7-aa3ca914847e>\u001b[0m in \u001b[0;36m<module>\u001b[0;34m\u001b[0m\n\u001b[1;32m      2\u001b[0m \u001b[0;32mimport\u001b[0m \u001b[0mskfuzzy\u001b[0m \u001b[0;32mas\u001b[0m \u001b[0mfuzz\u001b[0m\u001b[0;34m\u001b[0m\u001b[0;34m\u001b[0m\u001b[0m\n\u001b[1;32m      3\u001b[0m \u001b[0;32mfrom\u001b[0m \u001b[0mskfuzzy\u001b[0m \u001b[0;32mimport\u001b[0m \u001b[0mcontrol\u001b[0m \u001b[0;32mas\u001b[0m \u001b[0mctrl\u001b[0m\u001b[0;34m\u001b[0m\u001b[0;34m\u001b[0m\u001b[0m\n\u001b[0;32m----> 4\u001b[0;31m \u001b[0;32mfrom\u001b[0m \u001b[0mrules\u001b[0m \u001b[0;32mimport\u001b[0m \u001b[0mrule1\u001b[0m\u001b[0;34m,\u001b[0m \u001b[0mrule2\u001b[0m\u001b[0;34m,\u001b[0m \u001b[0mrule3\u001b[0m\u001b[0;34m,\u001b[0m \u001b[0mrule4\u001b[0m\u001b[0;34m,\u001b[0m \u001b[0mrule5\u001b[0m\u001b[0;34m,\u001b[0m \u001b[0mrule6\u001b[0m\u001b[0;34m\u001b[0m\u001b[0;34m\u001b[0m\u001b[0m\n\u001b[0m\u001b[1;32m      5\u001b[0m \u001b[0;34m\u001b[0m\u001b[0m\n\u001b[1;32m      6\u001b[0m \u001b[0msystem\u001b[0m \u001b[0;34m=\u001b[0m \u001b[0mctrl\u001b[0m\u001b[0;34m.\u001b[0m\u001b[0mControlSystem\u001b[0m\u001b[0;34m(\u001b[0m\u001b[0mrules\u001b[0m\u001b[0;34m=\u001b[0m\u001b[0;34m[\u001b[0m\u001b[0mrule1\u001b[0m\u001b[0;34m,\u001b[0m \u001b[0mrule2\u001b[0m\u001b[0;34m,\u001b[0m \u001b[0mrule3\u001b[0m\u001b[0;34m,\u001b[0m \u001b[0mrule4\u001b[0m\u001b[0;34m,\u001b[0m \u001b[0mrule5\u001b[0m\u001b[0;34m,\u001b[0m \u001b[0mrule6\u001b[0m\u001b[0;34m]\u001b[0m\u001b[0;34m)\u001b[0m\u001b[0;34m\u001b[0m\u001b[0;34m\u001b[0m\u001b[0m\n",
      "\u001b[0;32m~/Desktop/AAAIMXProjects/covid19-detection/system/rules.py\u001b[0m in \u001b[0;36m<module>\u001b[0;34m\u001b[0m\n\u001b[1;32m      8\u001b[0m \u001b[0;31m# Inference rules\u001b[0m\u001b[0;34m\u001b[0m\u001b[0;34m\u001b[0m\u001b[0;34m\u001b[0m\u001b[0m\n\u001b[1;32m      9\u001b[0m \u001b[0;31m# -------------------------------------\u001b[0m\u001b[0;34m\u001b[0m\u001b[0;34m\u001b[0m\u001b[0;34m\u001b[0m\u001b[0m\n\u001b[0;32m---> 10\u001b[0;31m \u001b[0mrule1\u001b[0m \u001b[0;34m=\u001b[0m \u001b[0mctrl\u001b[0m\u001b[0;34m.\u001b[0m\u001b[0mRule\u001b[0m\u001b[0;34m(\u001b[0m\u001b[0mantecedent\u001b[0m\u001b[0;34m=\u001b[0m\u001b[0;34m(\u001b[0m\u001b[0mFi\u001b[0m\u001b[0;34m[\u001b[0m\u001b[0;34m'NO'\u001b[0m\u001b[0;34m]\u001b[0m \u001b[0;34m&\u001b[0m \u001b[0mDG\u001b[0m\u001b[0;34m[\u001b[0m\u001b[0;34m'NO'\u001b[0m\u001b[0;34m]\u001b[0m\u001b[0;34m)\u001b[0m\u001b[0;34m,\u001b[0m \u001b[0mconsequent\u001b[0m\u001b[0;34m=\u001b[0m\u001b[0;34m(\u001b[0m\u001b[0mCo\u001b[0m\u001b[0;34m[\u001b[0m\u001b[0;34m'PP'\u001b[0m\u001b[0;34m]\u001b[0m \u001b[0;34m&\u001b[0m \u001b[0mAl\u001b[0m\u001b[0;34m[\u001b[0m\u001b[0;34m'MP'\u001b[0m\u001b[0;34m]\u001b[0m \u001b[0;34m&\u001b[0m \u001b[0mRe\u001b[0m\u001b[0;34m[\u001b[0m\u001b[0;34m'PP'\u001b[0m\u001b[0;34m]\u001b[0m \u001b[0;34m&\u001b[0m \u001b[0mIn\u001b[0m\u001b[0;34m[\u001b[0m\u001b[0;34m'PP'\u001b[0m\u001b[0;34m]\u001b[0m\u001b[0;34m)\u001b[0m\u001b[0;34m)\u001b[0m\u001b[0;34m\u001b[0m\u001b[0;34m\u001b[0m\u001b[0m\n\u001b[0m\u001b[1;32m     11\u001b[0m \u001b[0mrule2\u001b[0m \u001b[0;34m=\u001b[0m \u001b[0mctrl\u001b[0m\u001b[0;34m.\u001b[0m\u001b[0mRule\u001b[0m\u001b[0;34m(\u001b[0m\u001b[0mantecedent\u001b[0m\u001b[0;34m=\u001b[0m\u001b[0;34m(\u001b[0m\u001b[0mFi\u001b[0m\u001b[0;34m[\u001b[0m\u001b[0;34m'poor'\u001b[0m\u001b[0;34m]\u001b[0m \u001b[0;34m&\u001b[0m \u001b[0mDG\u001b[0m\u001b[0;34m[\u001b[0m\u001b[0;34m'average'\u001b[0m\u001b[0;34m]\u001b[0m\u001b[0;34m)\u001b[0m\u001b[0;34m,\u001b[0m \u001b[0mconsequent\u001b[0m\u001b[0;34m=\u001b[0m\u001b[0;34m(\u001b[0m\u001b[0mCo\u001b[0m\u001b[0;34m[\u001b[0m\u001b[0;34m'PP'\u001b[0m\u001b[0;34m]\u001b[0m\u001b[0;34m)\u001b[0m\u001b[0;34m)\u001b[0m\u001b[0;34m\u001b[0m\u001b[0;34m\u001b[0m\u001b[0m\n\u001b[1;32m     12\u001b[0m \u001b[0mrule3\u001b[0m \u001b[0;34m=\u001b[0m \u001b[0mctrl\u001b[0m\u001b[0;34m.\u001b[0m\u001b[0mRule\u001b[0m\u001b[0;34m(\u001b[0m\u001b[0mantecedent\u001b[0m\u001b[0;34m=\u001b[0m\u001b[0;34m(\u001b[0m\u001b[0mFi\u001b[0m\u001b[0;34m[\u001b[0m\u001b[0;34m'good'\u001b[0m\u001b[0;34m]\u001b[0m \u001b[0;34m&\u001b[0m \u001b[0mDR\u001b[0m\u001b[0;34m[\u001b[0m\u001b[0;34m'poor'\u001b[0m\u001b[0;34m]\u001b[0m \u001b[0;34m&\u001b[0m \u001b[0mMi\u001b[0m\u001b[0;34m[\u001b[0m\u001b[0;34m'~NO'\u001b[0m\u001b[0;34m]\u001b[0m\u001b[0;34m)\u001b[0m\u001b[0;34m,\u001b[0m \u001b[0mconsequent\u001b[0m\u001b[0;34m=\u001b[0m\u001b[0mCo\u001b[0m\u001b[0;34m[\u001b[0m\u001b[0;34m'PP'\u001b[0m\u001b[0;34m]\u001b[0m\u001b[0;34m)\u001b[0m\u001b[0;34m\u001b[0m\u001b[0;34m\u001b[0m\u001b[0m\n",
      "\u001b[0;32m~/Desktop/AAAIMXProjects/covid19-detection/venv/lib/python3.8/site-packages/skfuzzy/control/fuzzyvariable.py\u001b[0m in \u001b[0;36m__getitem__\u001b[0;34m(self, key)\u001b[0m\n\u001b[1;32m     80\u001b[0m                 \u001b[0;32melse\u001b[0m\u001b[0;34m:\u001b[0m\u001b[0;34m\u001b[0m\u001b[0;34m\u001b[0m\u001b[0m\n\u001b[1;32m     81\u001b[0m                     \u001b[0moptions\u001b[0m \u001b[0;34m+=\u001b[0m \u001b[0;34m\"'\"\u001b[0m \u001b[0;34m+\u001b[0m \u001b[0mstr\u001b[0m\u001b[0;34m(\u001b[0m\u001b[0mavailable_key\u001b[0m\u001b[0;34m)\u001b[0m \u001b[0;34m+\u001b[0m \u001b[0;34m\"'; \"\u001b[0m\u001b[0;34m\u001b[0m\u001b[0;34m\u001b[0m\u001b[0m\n\u001b[0;32m---> 82\u001b[0;31m             raise ValueError(\"Membership function '{0}' does not exist for \"\n\u001b[0m\u001b[1;32m     83\u001b[0m                              \u001b[0;34m\"{1} {2}.\\n\"\u001b[0m\u001b[0;34m\u001b[0m\u001b[0;34m\u001b[0m\u001b[0m\n\u001b[1;32m     84\u001b[0m                              \"Available options: {3}\".format(\n",
      "\u001b[0;31mValueError\u001b[0m: Membership function 'NO' does not exist for Antecedent Fiebre.\nAvailable options: 'No'; 'Leve'; 'Alta', or 'Severo'."
     ]
    }
   ],
   "source": [
    "import numpy as np\n",
    "import skfuzzy as fuzz\n",
    "from skfuzzy import control as ctrl\n",
    "from rules import rule1, rule2, rule3, rule4, rule5, rule6\n",
    "\n",
    "system = ctrl.ControlSystem(rules=[rule1, rule2, rule3, rule4, rule5, rule6])\n",
    "diagnosis = ctrl.ControlSystemSimulation(system)\n",
    "\n",
    "diagnosis.input['Fiebre'] = 30\n",
    "diagnosis.input['DolorGarganta'] = 9.8\n",
    "diagnosis.input['Diarrea'] = 0.0\n",
    "\n",
    "diagnosis.compute()\n",
    "#---------------------------------------\n",
    "\n",
    "print(diagnosis.input)\n",
    "print(diagnosis.output['diagnosis'])\n",
    "diagno.view(sim=diagnosis)\n"
   ]
  },
  {
   "cell_type": "code",
   "execution_count": 6,
   "metadata": {},
   "outputs": [
    {
     "output_type": "error",
     "ename": "ValueError",
     "evalue": "Membership function 'NO' does not exist for Antecedent Fiebre.\nAvailable options: 'No'; 'Leve'; 'Alta', or 'Severo'.",
     "traceback": [
      "\u001b[0;31m---------------------------------------------------------------------------\u001b[0m",
      "\u001b[0;31mValueError\u001b[0m                                Traceback (most recent call last)",
      "\u001b[0;32m<ipython-input-6-b140f30092c3>\u001b[0m in \u001b[0;36m<module>\u001b[0;34m\u001b[0m\n\u001b[0;32m----> 1\u001b[0;31m \u001b[0mrule1\u001b[0m \u001b[0;34m=\u001b[0m \u001b[0mctrl\u001b[0m\u001b[0;34m.\u001b[0m\u001b[0mRule\u001b[0m\u001b[0;34m(\u001b[0m\u001b[0mantecedent\u001b[0m\u001b[0;34m=\u001b[0m\u001b[0;34m(\u001b[0m\u001b[0mFi\u001b[0m\u001b[0;34m[\u001b[0m\u001b[0;34m'NO'\u001b[0m\u001b[0;34m]\u001b[0m \u001b[0;34m&\u001b[0m \u001b[0mDG\u001b[0m\u001b[0;34m[\u001b[0m\u001b[0;34m'NO'\u001b[0m\u001b[0;34m]\u001b[0m\u001b[0;34m)\u001b[0m\u001b[0;34m,\u001b[0m \u001b[0mconsequent\u001b[0m\u001b[0;34m=\u001b[0m\u001b[0;34m(\u001b[0m\u001b[0mcovid\u001b[0m\u001b[0;34m[\u001b[0m\u001b[0;34m'PP'\u001b[0m\u001b[0;34m]\u001b[0m \u001b[0;34m&\u001b[0m \u001b[0malergia\u001b[0m\u001b[0;34m[\u001b[0m\u001b[0;34m'MP'\u001b[0m\u001b[0;34m]\u001b[0m \u001b[0;34m&\u001b[0m \u001b[0mresfriado\u001b[0m\u001b[0;34m[\u001b[0m\u001b[0;34m'PP'\u001b[0m\u001b[0;34m]\u001b[0m \u001b[0;34m&\u001b[0m \u001b[0minfluenza\u001b[0m\u001b[0;34m[\u001b[0m\u001b[0;34m'PP'\u001b[0m\u001b[0;34m]\u001b[0m\u001b[0;34m)\u001b[0m\u001b[0;34m)\u001b[0m\u001b[0;34m\u001b[0m\u001b[0;34m\u001b[0m\u001b[0m\n\u001b[0m\u001b[1;32m      2\u001b[0m \u001b[0mrule2\u001b[0m \u001b[0;34m=\u001b[0m \u001b[0mctrl\u001b[0m\u001b[0;34m.\u001b[0m\u001b[0mRule\u001b[0m\u001b[0;34m(\u001b[0m\u001b[0mantecedent\u001b[0m\u001b[0;34m=\u001b[0m\u001b[0;34m(\u001b[0m\u001b[0mFi\u001b[0m\u001b[0;34m[\u001b[0m\u001b[0;34m'poor'\u001b[0m\u001b[0;34m]\u001b[0m \u001b[0;34m&\u001b[0m \u001b[0mDG\u001b[0m\u001b[0;34m[\u001b[0m\u001b[0;34m'average'\u001b[0m\u001b[0;34m]\u001b[0m\u001b[0;34m)\u001b[0m\u001b[0;34m,\u001b[0m \u001b[0mconsequent\u001b[0m\u001b[0;34m=\u001b[0m\u001b[0;34m(\u001b[0m\u001b[0mcovid\u001b[0m\u001b[0;34m[\u001b[0m\u001b[0;34m'PP'\u001b[0m\u001b[0;34m]\u001b[0m\u001b[0;34m)\u001b[0m\u001b[0;34m)\u001b[0m\u001b[0;34m\u001b[0m\u001b[0;34m\u001b[0m\u001b[0m\n\u001b[1;32m      3\u001b[0m \u001b[0mrule3\u001b[0m \u001b[0;34m=\u001b[0m \u001b[0mctrl\u001b[0m\u001b[0;34m.\u001b[0m\u001b[0mRule\u001b[0m\u001b[0;34m(\u001b[0m\u001b[0mantecedent\u001b[0m\u001b[0;34m=\u001b[0m\u001b[0;34m(\u001b[0m\u001b[0mFi\u001b[0m\u001b[0;34m[\u001b[0m\u001b[0;34m'good'\u001b[0m\u001b[0;34m]\u001b[0m \u001b[0;34m&\u001b[0m \u001b[0mDR\u001b[0m\u001b[0;34m[\u001b[0m\u001b[0;34m'poor'\u001b[0m\u001b[0;34m]\u001b[0m \u001b[0;34m&\u001b[0m \u001b[0mMi\u001b[0m\u001b[0;34m[\u001b[0m\u001b[0;34m'~NO'\u001b[0m\u001b[0;34m]\u001b[0m\u001b[0;34m)\u001b[0m\u001b[0;34m,\u001b[0m \u001b[0mconsequent\u001b[0m\u001b[0;34m=\u001b[0m\u001b[0mcovid\u001b[0m\u001b[0;34m[\u001b[0m\u001b[0;34m'PP'\u001b[0m\u001b[0;34m]\u001b[0m\u001b[0;34m)\u001b[0m\u001b[0;34m\u001b[0m\u001b[0;34m\u001b[0m\u001b[0m\n\u001b[1;32m      4\u001b[0m \u001b[0mrule4\u001b[0m \u001b[0;34m=\u001b[0m \u001b[0mctrl\u001b[0m\u001b[0;34m.\u001b[0m\u001b[0mRule\u001b[0m\u001b[0;34m(\u001b[0m\u001b[0mantecedent\u001b[0m\u001b[0;34m=\u001b[0m\u001b[0;34m(\u001b[0m\u001b[0mFi\u001b[0m\u001b[0;34m[\u001b[0m\u001b[0;34m'good'\u001b[0m\u001b[0;34m]\u001b[0m\u001b[0;34m)\u001b[0m\u001b[0;34m,\u001b[0m \u001b[0mconsequent\u001b[0m\u001b[0;34m=\u001b[0m\u001b[0mcovid\u001b[0m\u001b[0;34m[\u001b[0m\u001b[0;34m'MP'\u001b[0m\u001b[0;34m]\u001b[0m\u001b[0;34m)\u001b[0m\u001b[0;34m\u001b[0m\u001b[0;34m\u001b[0m\u001b[0m\n\u001b[1;32m      5\u001b[0m \u001b[0mrule5\u001b[0m \u001b[0;34m=\u001b[0m \u001b[0mctrl\u001b[0m\u001b[0;34m.\u001b[0m\u001b[0mRule\u001b[0m\u001b[0;34m(\u001b[0m\u001b[0mantecedent\u001b[0m\u001b[0;34m=\u001b[0m\u001b[0;34m(\u001b[0m\u001b[0mFi\u001b[0m\u001b[0;34m[\u001b[0m\u001b[0;34m'average'\u001b[0m\u001b[0;34m]\u001b[0m\u001b[0;34m)\u001b[0m\u001b[0;34m,\u001b[0m \u001b[0mconsequent\u001b[0m\u001b[0;34m=\u001b[0m\u001b[0mcovid\u001b[0m\u001b[0;34m[\u001b[0m\u001b[0;34m'PO'\u001b[0m\u001b[0;34m]\u001b[0m\u001b[0;34m)\u001b[0m\u001b[0;34m\u001b[0m\u001b[0;34m\u001b[0m\u001b[0m\n",
      "\u001b[0;32m~/Desktop/AAAIMXProjects/covid19-detection/venv/lib/python3.8/site-packages/skfuzzy/control/fuzzyvariable.py\u001b[0m in \u001b[0;36m__getitem__\u001b[0;34m(self, key)\u001b[0m\n\u001b[1;32m     80\u001b[0m                 \u001b[0;32melse\u001b[0m\u001b[0;34m:\u001b[0m\u001b[0;34m\u001b[0m\u001b[0;34m\u001b[0m\u001b[0m\n\u001b[1;32m     81\u001b[0m                     \u001b[0moptions\u001b[0m \u001b[0;34m+=\u001b[0m \u001b[0;34m\"'\"\u001b[0m \u001b[0;34m+\u001b[0m \u001b[0mstr\u001b[0m\u001b[0;34m(\u001b[0m\u001b[0mavailable_key\u001b[0m\u001b[0;34m)\u001b[0m \u001b[0;34m+\u001b[0m \u001b[0;34m\"'; \"\u001b[0m\u001b[0;34m\u001b[0m\u001b[0;34m\u001b[0m\u001b[0m\n\u001b[0;32m---> 82\u001b[0;31m             raise ValueError(\"Membership function '{0}' does not exist for \"\n\u001b[0m\u001b[1;32m     83\u001b[0m                              \u001b[0;34m\"{1} {2}.\\n\"\u001b[0m\u001b[0;34m\u001b[0m\u001b[0;34m\u001b[0m\u001b[0m\n\u001b[1;32m     84\u001b[0m                              \"Available options: {3}\".format(\n",
      "\u001b[0;31mValueError\u001b[0m: Membership function 'NO' does not exist for Antecedent Fiebre.\nAvailable options: 'No'; 'Leve'; 'Alta', or 'Severo'."
     ]
    }
   ],
   "source": [
    "\n",
    "\n",
    "\n"
   ]
  },
  {
   "cell_type": "code",
   "execution_count": null,
   "metadata": {},
   "outputs": [],
   "source": []
  }
 ],
 "metadata": {
  "language_info": {
   "codemirror_mode": {
    "name": "ipython",
    "version": 3
   },
   "file_extension": ".py",
   "mimetype": "text/x-python",
   "name": "python",
   "nbconvert_exporter": "python",
   "pygments_lexer": "ipython3",
   "version": "3.8.0-final"
  },
  "orig_nbformat": 2,
  "kernelspec": {
   "name": "python38064bitvenv3d3e30184c1e4e9e85e7bef5f1e5551b",
   "display_name": "Python 3.8.0 64-bit ('venv')"
  }
 },
 "nbformat": 4,
 "nbformat_minor": 2
}