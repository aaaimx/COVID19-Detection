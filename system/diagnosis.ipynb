{
 "cells": [
  {
   "cell_type": "code",
   "execution_count": 6,
   "metadata": {},
   "outputs": [
    {
     "output_type": "stream",
     "name": "stdout",
     "text": "Fiebre : 40.28\nDolorGarganta : 0.4195\nDolorCabeza : 0.4128\nMialgia : 0.5805\nFatiga : 0.4942\nDiarrea : 0.9128\nCongestionNasal : 0.1437\nEstornudos : 0.1802\nRinorrea : 0.1782\n\nOrderedDict([('Co', 4.995000000000062), ('Al', 4.994999999999951), ('Re', 4.995000000000062), ('In', 4.995000000000062)])\n"
    }
   ],
   "source": [
    "import numpy as np\n",
    "import skfuzzy as fuzz\n",
    "from skfuzzy import control as ctrl\n",
    "from rules import rule1, rule2, rule3, rule4, rule5, rule6\n",
    "\n",
    "system = ctrl.ControlSystem(rules=[rule1, rule2, rule3, rule4, rule5, rule6])\n",
    "diagnosis = ctrl.ControlSystemSimulation(system)\n",
    "\n",
    "inputs = [40.28, 0.4128, 0.5805, 0.4942, 0.1437, 0.1802, 0.4195, 0.9128, 0.1782]\n",
    "diagnosis.input['Fiebre'] = inputs[0]\n",
    "diagnosis.input['DolorCabeza'] = inputs[1]\n",
    "diagnosis.input['Mialgia'] = inputs[2]\n",
    "diagnosis.input['Fatiga'] = inputs[3]\n",
    "diagnosis.input['CongestionNasal'] = inputs[4]\n",
    "diagnosis.input['Estornudos'] = inputs[5]\n",
    "diagnosis.input['DolorGarganta'] = inputs[6]\n",
    "diagnosis.input['Diarrea'] = inputs[7]\n",
    "diagnosis.input['Rinorrea'] = inputs[8]\n",
    "print(diagnosis.input)\n",
    "\n",
    "diagnosis.compute()\n",
    "#---------------------------------------\n",
    "print(diagnosis.output)\n",
    "#diagno.view(sim=diagnosis)\n"
   ]
  },
  {
   "cell_type": "code",
   "execution_count": 6,
   "metadata": {},
   "outputs": [],
   "source": [
    "\n",
    "\n",
    "\n"
   ]
  },
  {
   "cell_type": "code",
   "execution_count": null,
   "metadata": {},
   "outputs": [],
   "source": []
  }
 ],
 "metadata": {
  "language_info": {
   "codemirror_mode": {
    "name": "ipython",
    "version": 3
   },
   "file_extension": ".py",
   "mimetype": "text/x-python",
   "name": "python",
   "nbconvert_exporter": "python",
   "pygments_lexer": "ipython3",
   "version": "3.8.0-final"
  },
  "orig_nbformat": 2,
  "kernelspec": {
   "name": "python38064bitvenv3d3e30184c1e4e9e85e7bef5f1e5551b",
   "display_name": "Python 3.8.0 64-bit ('venv')"
  }
 },
 "nbformat": 4,
 "nbformat_minor": 2
}